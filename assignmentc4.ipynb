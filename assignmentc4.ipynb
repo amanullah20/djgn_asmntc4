{
 "cells": [
  {
   "cell_type": "markdown",
   "id": "f724c27c",
   "metadata": {},
   "source": [
    "# set union"
   ]
  },
  {
   "cell_type": "code",
   "execution_count": 1,
   "id": "0aebe658",
   "metadata": {},
   "outputs": [
    {
     "name": "stdout",
     "output_type": "stream",
     "text": [
      "set union :  {1, 2, 3, 5, 6, 7, 9, 46, 23}\n"
     ]
    }
   ],
   "source": [
    "A = {3,5,7,23,46,9}\n",
    "B = {9,3,6,9,1,2}\n",
    "\n",
    "print(\"set union : \",A|B)"
   ]
  },
  {
   "cell_type": "markdown",
   "id": "0557d4a5",
   "metadata": {},
   "source": [
    "# no duplicate"
   ]
  },
  {
   "cell_type": "code",
   "execution_count": 3,
   "id": "f5219870",
   "metadata": {},
   "outputs": [],
   "source": [
    "duplicate_data = [4,9,4,5]"
   ]
  },
  {
   "cell_type": "code",
   "execution_count": 4,
   "id": "a89d2a12",
   "metadata": {},
   "outputs": [
    {
     "name": "stdout",
     "output_type": "stream",
     "text": [
      "[4, 9, 4, 5]\n"
     ]
    }
   ],
   "source": [
    "print(duplicate_data)"
   ]
  },
  {
   "cell_type": "code",
   "execution_count": 5,
   "id": "bab6bf81",
   "metadata": {},
   "outputs": [
    {
     "name": "stdout",
     "output_type": "stream",
     "text": [
      "{9, 4, 5}\n"
     ]
    }
   ],
   "source": [
    "print(set(duplicate_data))"
   ]
  },
  {
   "cell_type": "markdown",
   "id": "a2d4b7eb",
   "metadata": {},
   "source": [
    "# Dictionary"
   ]
  },
  {
   "cell_type": "code",
   "execution_count": 6,
   "id": "d8073eb4",
   "metadata": {},
   "outputs": [],
   "source": [
    "B = {'django':16,'project':8,'student':20}"
   ]
  },
  {
   "cell_type": "code",
   "execution_count": 12,
   "id": "1c802c24",
   "metadata": {},
   "outputs": [
    {
     "data": {
      "text/plain": [
       "dict_keys(['django', 'project', 'student'])"
      ]
     },
     "execution_count": 12,
     "metadata": {},
     "output_type": "execute_result"
    }
   ],
   "source": [
    "B.keys()"
   ]
  },
  {
   "cell_type": "markdown",
   "id": "efeee13d",
   "metadata": {},
   "source": [
    "# Function"
   ]
  },
  {
   "cell_type": "code",
   "execution_count": 13,
   "id": "e018afcd",
   "metadata": {},
   "outputs": [
    {
     "name": "stdout",
     "output_type": "stream",
     "text": [
      "aman ullah\n"
     ]
    }
   ],
   "source": [
    "def disclose(name):\n",
    "    print(name)\n",
    "    \n",
    "disclose('aman ullah')    "
   ]
  },
  {
   "cell_type": "markdown",
   "id": "653d719d",
   "metadata": {},
   "source": [
    "# class"
   ]
  },
  {
   "cell_type": "code",
   "execution_count": 21,
   "id": "a5536b1b",
   "metadata": {},
   "outputs": [],
   "source": [
    "class Student:\n",
    "    def __init__(self,name,roll,clas):\n",
    "        self.name = name,\n",
    "        self.roll = roll,\n",
    "        self.clas = clas\n",
    "        \n",
    "        \n",
    "    def display(self):\n",
    "        print('name :',self.name,'roll :',self.roll,'class :',self.clas)\n",
    "        \n",
    "        \n",
    "Salam = Student('salam',9,'5t')"
   ]
  },
  {
   "cell_type": "code",
   "execution_count": 22,
   "id": "678cea06",
   "metadata": {},
   "outputs": [
    {
     "name": "stdout",
     "output_type": "stream",
     "text": [
      "name : ('salam',) roll : (9,) class : 5t\n"
     ]
    }
   ],
   "source": [
    "Salam.display()"
   ]
  },
  {
   "cell_type": "code",
   "execution_count": 25,
   "id": "5ef38f32",
   "metadata": {},
   "outputs": [
    {
     "name": "stdout",
     "output_type": "stream",
     "text": [
      "He is playing football\n"
     ]
    }
   ],
   "source": [
    "class A:\n",
    "    def plays(self):\n",
    "        print('He is playing football')\n",
    "        \n",
    "class B(A):\n",
    "    def play2(self):\n",
    "        print('He is playing cricet')\n",
    "        \n",
    "a = A()\n",
    "a.plays()"
   ]
  },
  {
   "cell_type": "code",
   "execution_count": 26,
   "id": "f231ba74",
   "metadata": {},
   "outputs": [
    {
     "name": "stdout",
     "output_type": "stream",
     "text": [
      "He is playing cricet\n"
     ]
    }
   ],
   "source": [
    "b=B()\n",
    "b.play2()"
   ]
  },
  {
   "cell_type": "code",
   "execution_count": 27,
   "id": "dfd7a4d0",
   "metadata": {},
   "outputs": [
    {
     "name": "stdout",
     "output_type": "stream",
     "text": [
      "He is playing football\n"
     ]
    }
   ],
   "source": [
    "b.plays()"
   ]
  },
  {
   "cell_type": "code",
   "execution_count": null,
   "id": "5f76145c",
   "metadata": {},
   "outputs": [],
   "source": []
  }
 ],
 "metadata": {
  "kernelspec": {
   "display_name": "Python 3 (ipykernel)",
   "language": "python",
   "name": "python3"
  },
  "language_info": {
   "codemirror_mode": {
    "name": "ipython",
    "version": 3
   },
   "file_extension": ".py",
   "mimetype": "text/x-python",
   "name": "python",
   "nbconvert_exporter": "python",
   "pygments_lexer": "ipython3",
   "version": "3.9.12"
  }
 },
 "nbformat": 4,
 "nbformat_minor": 5
}
